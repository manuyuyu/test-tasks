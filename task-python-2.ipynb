{
 "cells": [
  {
   "cell_type": "markdown",
   "id": "08ac20b3",
   "metadata": {},
   "source": [
    "# Задание № 3\n",
    "\n",
    "## Описание данных\n",
    "\n",
    "Предоставлена выгрузка из рекламного кабинета (dataset_task3), который содержит\n",
    "- Месяц\n",
    "- Название рекламной кампании\n",
    "- № рекламной кампании\n",
    "- Кол-во показов рекламного объявления\n",
    "- Средняя позиция показа рекламного объявления\n",
    "\n",
    "**Задача** - нарисовать слайд для отчетной презентации перед руководством, который иллюстрирует результаты маркетологов в части повышения видимости рекламы.\n",
    "\n",
    "Основная информация на слайде будет состоять из % показов рекламного объявления на позиции ТОП-1 и ТОП-3 для:\n",
    "- брендовых рекламных кампаний\n",
    "- не брендовых рекламных кампаний\n",
    "- общий для всех рекламных кампаний\n",
    "\n",
    "Определить тип кампании можно по наличию brand в названии кампании.  \n",
    "Позиции для показа рекламного объявления в поисковой выдачи ограничены рядом целых чисел от 1 до 8."
   ]
  },
  {
   "cell_type": "code",
   "execution_count": 1,
   "id": "bbeee1c7",
   "metadata": {},
   "outputs": [],
   "source": [
    "import pandas as pd\n",
    "from scipy.stats import poisson\n",
    "import seaborn as sns\n",
    "import matplotlib.pyplot as plt"
   ]
  },
  {
   "cell_type": "code",
   "execution_count": 2,
   "id": "52b4ac01",
   "metadata": {
    "scrolled": true
   },
   "outputs": [],
   "source": [
    "# стартовые данные\n",
    "pos_min = 1\n",
    "pos_max = 8\n",
    "pos_list = [x for x in range(pos_min, pos_max + 1)]"
   ]
  },
  {
   "cell_type": "code",
   "execution_count": 3,
   "id": "ff54cc00",
   "metadata": {
    "scrolled": true
   },
   "outputs": [
    {
     "data": {
      "text/html": [
       "<div>\n",
       "<style scoped>\n",
       "    .dataframe tbody tr th:only-of-type {\n",
       "        vertical-align: middle;\n",
       "    }\n",
       "\n",
       "    .dataframe tbody tr th {\n",
       "        vertical-align: top;\n",
       "    }\n",
       "\n",
       "    .dataframe thead th {\n",
       "        text-align: right;\n",
       "    }\n",
       "</style>\n",
       "<table border=\"1\" class=\"dataframe\">\n",
       "  <thead>\n",
       "    <tr style=\"text-align: right;\">\n",
       "      <th></th>\n",
       "      <th>Дата</th>\n",
       "      <th>Кампания</th>\n",
       "      <th>№ Кампании</th>\n",
       "      <th>Показы</th>\n",
       "      <th>Ср. позиция показов</th>\n",
       "    </tr>\n",
       "  </thead>\n",
       "  <tbody>\n",
       "    <tr>\n",
       "      <th>0</th>\n",
       "      <td>янв 2022</td>\n",
       "      <td>o-a_corporate_perform_god_20220100016_context_search_brand_srb_yxprrko</td>\n",
       "      <td>69149644</td>\n",
       "      <td>4442</td>\n",
       "      <td>1.10</td>\n",
       "    </tr>\n",
       "    <tr>\n",
       "      <th>1</th>\n",
       "      <td>янв 2022</td>\n",
       "      <td>o-a_corporate_perform_god_20220100016_context_search_brand_url_yxprrko</td>\n",
       "      <td>69149675</td>\n",
       "      <td>2692</td>\n",
       "      <td>1.04</td>\n",
       "    </tr>\n",
       "    <tr>\n",
       "      <th>2</th>\n",
       "      <td>янв 2022</td>\n",
       "      <td>o-a_corporate_perform_god_20220100016_context_search_brand_cch_yxprrko</td>\n",
       "      <td>69149701</td>\n",
       "      <td>1382</td>\n",
       "      <td>1.06</td>\n",
       "    </tr>\n",
       "    <tr>\n",
       "      <th>3</th>\n",
       "      <td>янв 2022</td>\n",
       "      <td>o-a_corporate_perform_god_20220100016_context_search_general_szb_yxprrko</td>\n",
       "      <td>69149723</td>\n",
       "      <td>9006</td>\n",
       "      <td>1.24</td>\n",
       "    </tr>\n",
       "    <tr>\n",
       "      <th>4</th>\n",
       "      <td>янв 2022</td>\n",
       "      <td>o-a_corporate_perform_god_20220100016_context_search_brand_msk_yxprrko</td>\n",
       "      <td>69149760</td>\n",
       "      <td>7365</td>\n",
       "      <td>1.24</td>\n",
       "    </tr>\n",
       "  </tbody>\n",
       "</table>\n",
       "</div>"
      ],
      "text/plain": [
       "       Дата  \\\n",
       "0  янв 2022   \n",
       "1  янв 2022   \n",
       "2  янв 2022   \n",
       "3  янв 2022   \n",
       "4  янв 2022   \n",
       "\n",
       "                                                                   Кампания  \\\n",
       "0    o-a_corporate_perform_god_20220100016_context_search_brand_srb_yxprrko   \n",
       "1    o-a_corporate_perform_god_20220100016_context_search_brand_url_yxprrko   \n",
       "2    o-a_corporate_perform_god_20220100016_context_search_brand_cch_yxprrko   \n",
       "3  o-a_corporate_perform_god_20220100016_context_search_general_szb_yxprrko   \n",
       "4    o-a_corporate_perform_god_20220100016_context_search_brand_msk_yxprrko   \n",
       "\n",
       "   № Кампании  Показы  Ср. позиция показов  \n",
       "0    69149644    4442                 1.10  \n",
       "1    69149675    2692                 1.04  \n",
       "2    69149701    1382                 1.06  \n",
       "3    69149723    9006                 1.24  \n",
       "4    69149760    7365                 1.24  "
      ]
     },
     "execution_count": 3,
     "metadata": {},
     "output_type": "execute_result"
    }
   ],
   "source": [
    "# чтение файла\n",
    "data = pd.read_excel('dataset_task3.xlsx')\n",
    "\n",
    "pd.set_option('display.max_colwidth', None) # значения в столбце 'Кампания' показываем полностью\n",
    "data.head()"
   ]
  },
  {
   "cell_type": "markdown",
   "id": "9f75a25e",
   "metadata": {},
   "source": [
    "## Предобработка данных"
   ]
  },
  {
   "cell_type": "code",
   "execution_count": 4,
   "id": "64e7fc5e",
   "metadata": {},
   "outputs": [],
   "source": [
    "# добавляем столбец с обозначением типа кампании (брендовая / не-брендовая)\n",
    "\n",
    "def campany(data):\n",
    "    \n",
    "    '''\n",
    "     возвращает значение 'brand', если в названии кампании присутсвует слово 'brand'\n",
    "     и значение 'no-brand' в остальных случаях.\n",
    "    '''\n",
    "    if '_brand_' in data:\n",
    "        return 'brand'\n",
    "    return 'no-brand'\n",
    "\n",
    "data['Тип_кампании'] = data['Кампания'].apply(campany)"
   ]
  },
  {
   "cell_type": "code",
   "execution_count": 5,
   "id": "d7c8366a",
   "metadata": {},
   "outputs": [],
   "source": [
    "# описываем функцию, в которой на выходе получаем список с распределением процентов по позициям показов\n",
    "\n",
    "def pois(mu, size, min, max, pos_list):\n",
    "    \n",
    "    '''\n",
    "     генерим случайные значения позиций показов из распределения Пуассона с заданным средним значением ('Ср. позиция показов')\n",
    "     и заданным размером выборки ('Показы'). Увеличиваем количество показов в `times_larger` раз, для того, чтобы\n",
    "     из полученного количества можно было выбрать заданное количество показов в нужном интервале (1-8 позиции).\n",
    "    '''\n",
    "    times_larger = 2\n",
    "    sample = poisson.rvs(mu=mu, size = size * times_larger)\n",
    "    \n",
    "    # выбираем из сгенерированной выборки значения, попадающие в нужный диапазон\n",
    "    sample_in_range = []\n",
    "    for value in sample:\n",
    "        if value >= min and value <= max:\n",
    "            sample_in_range.append(value)   \n",
    "        if len(sample_in_range) >= size:\n",
    "            break\n",
    "    \n",
    "    # считаем проценты для позиций показов\n",
    "    result = []    \n",
    "    for pos in pos_list:\n",
    "        result.append(len([x for x in sample_in_range if x == pos])/len(sample_in_range))\n",
    "    \n",
    "    return result"
   ]
  },
  {
   "cell_type": "code",
   "execution_count": 6,
   "id": "7bc3d144",
   "metadata": {},
   "outputs": [],
   "source": [
    "# добавляем столбцы Топ_1 и Топ_3 с количеством показов\n",
    "\n",
    "def add_tops(s):\n",
    "    p = pois(s['Ср. позиция показов'], s['Показы'], pos_min, pos_max, pos_list)\n",
    "    s['Топ_1'] = p[0] * s['Показы']\n",
    "    s['Топ_3'] = sum(p[0:3]) * s['Показы']\n",
    "    return s\n",
    "\n",
    "data = data.apply(add_tops, axis=1)"
   ]
  },
  {
   "cell_type": "code",
   "execution_count": 7,
   "id": "4346d7c1",
   "metadata": {},
   "outputs": [],
   "source": [
    "# группируем таблицу по типу кампании и дате\n",
    "\n",
    "data_grouped = (\n",
    "    data\n",
    "    .groupby(['Тип_кампании', 'Дата'], as_index=False)\n",
    "    .agg({'Показы': 'sum', 'Топ_1': 'sum', 'Топ_3': 'sum'})\n",
    "    .sort_values(by='Дата', ascending=False)\n",
    "    .reset_index(drop=True)\n",
    ")"
   ]
  },
  {
   "cell_type": "code",
   "execution_count": 8,
   "id": "503e8e7d",
   "metadata": {},
   "outputs": [],
   "source": [
    "# группируем созданную таблицу по дате\n",
    "\n",
    "data_totals = (\n",
    "    data_grouped\n",
    "    .groupby('Дата', as_index=False)\n",
    "    .agg({'Показы': 'sum', 'Топ_1': 'sum', 'Топ_3': 'sum'})\n",
    "    .sort_values(by='Дата', ascending=False)\n",
    "    .reset_index(drop=True)\n",
    ")"
   ]
  },
  {
   "cell_type": "code",
   "execution_count": 9,
   "id": "c4e204b3",
   "metadata": {},
   "outputs": [],
   "source": [
    "# объединяем обе таблицы\n",
    "\n",
    "data_concat = (\n",
    "    pd.concat([data_grouped, data_totals])\n",
    "    .fillna('total')\n",
    "    .sort_values(by='Дата', ascending=False)\n",
    "    .reset_index(drop=True)\n",
    ")"
   ]
  },
  {
   "cell_type": "code",
   "execution_count": 10,
   "id": "d8bb0b9b",
   "metadata": {
    "scrolled": true
   },
   "outputs": [
    {
     "data": {
      "text/html": [
       "<div>\n",
       "<style scoped>\n",
       "    .dataframe tbody tr th:only-of-type {\n",
       "        vertical-align: middle;\n",
       "    }\n",
       "\n",
       "    .dataframe tbody tr th {\n",
       "        vertical-align: top;\n",
       "    }\n",
       "\n",
       "    .dataframe thead th {\n",
       "        text-align: right;\n",
       "    }\n",
       "</style>\n",
       "<table border=\"1\" class=\"dataframe\">\n",
       "  <thead>\n",
       "    <tr style=\"text-align: right;\">\n",
       "      <th></th>\n",
       "      <th>Тип_кампании</th>\n",
       "      <th>Дата</th>\n",
       "      <th>Показы</th>\n",
       "      <th>Топ_1</th>\n",
       "      <th>Топ_3</th>\n",
       "    </tr>\n",
       "  </thead>\n",
       "  <tbody>\n",
       "    <tr>\n",
       "      <th>0</th>\n",
       "      <td>brand</td>\n",
       "      <td>янв 2022</td>\n",
       "      <td>27796</td>\n",
       "      <td>54.2</td>\n",
       "      <td>95.8</td>\n",
       "    </tr>\n",
       "    <tr>\n",
       "      <th>1</th>\n",
       "      <td>no-brand</td>\n",
       "      <td>янв 2022</td>\n",
       "      <td>1006926</td>\n",
       "      <td>20.2</td>\n",
       "      <td>70.4</td>\n",
       "    </tr>\n",
       "    <tr>\n",
       "      <th>2</th>\n",
       "      <td>total</td>\n",
       "      <td>янв 2022</td>\n",
       "      <td>1034722</td>\n",
       "      <td>21.2</td>\n",
       "      <td>71.1</td>\n",
       "    </tr>\n",
       "    <tr>\n",
       "      <th>3</th>\n",
       "      <td>brand</td>\n",
       "      <td>фев 2022</td>\n",
       "      <td>46140</td>\n",
       "      <td>47.6</td>\n",
       "      <td>93.4</td>\n",
       "    </tr>\n",
       "    <tr>\n",
       "      <th>4</th>\n",
       "      <td>no-brand</td>\n",
       "      <td>фев 2022</td>\n",
       "      <td>1247650</td>\n",
       "      <td>16.7</td>\n",
       "      <td>64.0</td>\n",
       "    </tr>\n",
       "    <tr>\n",
       "      <th>5</th>\n",
       "      <td>total</td>\n",
       "      <td>фев 2022</td>\n",
       "      <td>1293790</td>\n",
       "      <td>17.8</td>\n",
       "      <td>65.1</td>\n",
       "    </tr>\n",
       "    <tr>\n",
       "      <th>6</th>\n",
       "      <td>brand</td>\n",
       "      <td>мар 2022</td>\n",
       "      <td>80512</td>\n",
       "      <td>48.1</td>\n",
       "      <td>93.3</td>\n",
       "    </tr>\n",
       "    <tr>\n",
       "      <th>7</th>\n",
       "      <td>no-brand</td>\n",
       "      <td>мар 2022</td>\n",
       "      <td>289448</td>\n",
       "      <td>50.6</td>\n",
       "      <td>94.8</td>\n",
       "    </tr>\n",
       "    <tr>\n",
       "      <th>8</th>\n",
       "      <td>total</td>\n",
       "      <td>мар 2022</td>\n",
       "      <td>369960</td>\n",
       "      <td>50.1</td>\n",
       "      <td>94.5</td>\n",
       "    </tr>\n",
       "  </tbody>\n",
       "</table>\n",
       "</div>"
      ],
      "text/plain": [
       "  Тип_кампании      Дата   Показы  Топ_1  Топ_3\n",
       "0        brand  янв 2022    27796   54.2   95.8\n",
       "1     no-brand  янв 2022  1006926   20.2   70.4\n",
       "2        total  янв 2022  1034722   21.2   71.1\n",
       "3        brand  фев 2022    46140   47.6   93.4\n",
       "4     no-brand  фев 2022  1247650   16.7   64.0\n",
       "5        total  фев 2022  1293790   17.8   65.1\n",
       "6        brand  мар 2022    80512   48.1   93.3\n",
       "7     no-brand  мар 2022   289448   50.6   94.8\n",
       "8        total  мар 2022   369960   50.1   94.5"
      ]
     },
     "execution_count": 10,
     "metadata": {},
     "output_type": "execute_result"
    }
   ],
   "source": [
    "# считаем процент показов рекламного объявления на позиции Топ-1 и Топ-3\n",
    "\n",
    "data_concat['Топ_1'] = round(data_concat['Топ_1'] / data_concat['Показы'] * 100, 1)\n",
    "data_concat['Топ_3'] = round(data_concat['Топ_3'] / data_concat['Показы'] * 100, 1)\n",
    "data_concat"
   ]
  },
  {
   "cell_type": "markdown",
   "id": "a39dab7e",
   "metadata": {},
   "source": [
    "## Построение графиков"
   ]
  },
  {
   "cell_type": "code",
   "execution_count": 11,
   "id": "68c2e244",
   "metadata": {},
   "outputs": [],
   "source": [
    "# задаем функцию для построения графиков для Топ-1 и Топ-3\n",
    "\n",
    "def lines(data, x, hue):\n",
    "    \n",
    "    plt.figure(figsize=(10, 6))\n",
    "    \n",
    "    ax1 = plt.subplot(1, 2, 1)\n",
    "    sns.lineplot(data=data, x=x, y='Топ_1', hue=hue, ax=ax1)\n",
    "    plt.title('Проценты показов рекламы на позиции Топ-1')\n",
    "    plt.xlabel('Дата')\n",
    "    plt.ylabel('Проценты')\n",
    "    plt.legend(loc='lower right')\n",
    "    plt.xticks(rotation=45, horizontalalignment='right')\n",
    "        \n",
    "    ax2 = plt.subplot(1, 2, 2, sharey=ax1)\n",
    "    sns.lineplot(data=data, x=x, y='Топ_3', hue=hue, ax=ax2)\n",
    "    plt.title('Проценты показов рекламы на позиции Топ-3')\n",
    "    plt.xlabel('Дата')\n",
    "    plt.ylabel('Проценты')\n",
    "    plt.legend(loc='lower right')\n",
    "    plt.xticks(rotation=45, horizontalalignment='right')\n",
    "    \n",
    "    plt.tight_layout()\n",
    "    plt.show()"
   ]
  },
  {
   "cell_type": "code",
   "execution_count": 12,
   "id": "9f5ab734",
   "metadata": {},
   "outputs": [
    {
     "data": {
      "image/png": "[encoded data removed]",
      "text/plain": [
       "<Figure size 720x432 with 2 Axes>"
      ]
     },
     "metadata": {
      "needs_background": "light"
     },
     "output_type": "display_data"
    }
   ],
   "source": [
    "# строим графики\n",
    "\n",
    "lines(data_concat, 'Дата', 'Тип_кампании')"
   ]
  },
  {
   "attachments": {},
   "cell_type": "markdown",
   "id": "bb7ea684",
   "metadata": {},
   "source": [
    "## Вывод\n",
    "\n",
    "Процент показов брендовой рекламы на позиции Топ-1 снизился в марте по отношению к январю на 6 пунктов, на позиции Топ-3 – на 2.1 пункта. \n",
    "Процент показов не-брендовой рекламы на позиции Топ-1 увеличился в марте по отношению к январю на 30.4 пункта, на позиции Топ-3 – на 24.4 пункта."
   ]
  }
 ],
 "metadata": {
  "kernelspec": {
   "display_name": "Python 3 (ipykernel)",
   "language": "python",
   "name": "python3"
  },
  "language_info": {
   "codemirror_mode": {
    "name": "ipython",
    "version": 3
   },
   "file_extension": ".py",
   "mimetype": "text/x-python",
   "name": "python",
   "nbconvert_exporter": "python",
   "pygments_lexer": "ipython3",
   "version": "3.9.12"
  },
  "toc": {
   "base_numbering": 1,
   "nav_menu": {},
   "number_sections": true,
   "sideBar": true,
   "skip_h1_title": false,
   "title_cell": "Table of Contents",
   "title_sidebar": "Contents",
   "toc_cell": false,
   "toc_position": {
    "height": "calc(100% - 180px)",
    "left": "10px",
    "top": "150px",
    "width": "243.825px"
   },
   "toc_section_display": true,
   "toc_window_display": true
  }
 },
 "nbformat": 4,
 "nbformat_minor": 5
}
